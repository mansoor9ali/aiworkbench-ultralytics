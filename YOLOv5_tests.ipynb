{
 "cells": [
  {
   "cell_type": "code",
   "execution_count": 4,
   "id": "a1e0a20c-4fb9-4242-8e95-4ae2548e4731",
   "metadata": {},
   "outputs": [],
   "source": [
    "import torch\n",
    "import torchvision\n",
    "\n",
    "from ultralytics import YOLO\n",
    "import ultralytics"
   ]
  },
  {
   "cell_type": "code",
   "execution_count": 5,
   "id": "ec332ad1-6dc4-4db8-a192-d82c659243f5",
   "metadata": {},
   "outputs": [
    {
     "name": "stdout",
     "output_type": "stream",
     "text": [
      "torch version: 2.6.0+cu124\n",
      "torchvision version: 0.21.0+cu124\n",
      "ultralytics version: 8.3.74\n"
     ]
    }
   ],
   "source": [
    "print(f\"torch version: {torch.__version__}\")\n",
    "print(f\"torchvision version: {torchvision.__version__}\")\n",
    "print(f\"ultralytics version: {ultralytics.__version__}\")"
   ]
  },
  {
   "cell_type": "code",
   "execution_count": 6,
   "id": "d7cecd2a-6e14-47bc-83af-14d80b0d752b",
   "metadata": {},
   "outputs": [
    {
     "name": "stderr",
     "output_type": "stream",
     "text": [
      "Using cache found in /home/workbench/.cache/torch/hub/ultralytics_yolov5_master\n",
      "YOLOv5 🚀 2025-2-11 Python-3.10.12 torch-2.6.0+cu124 CUDA:0 (NVIDIA RTX A5000, 24564MiB)\n",
      "\n",
      "Fusing layers... \n",
      "YOLOv5s summary: 213 layers, 7225885 parameters, 0 gradients, 16.4 GFLOPs\n",
      "Adding AutoShape... \n"
     ]
    }
   ],
   "source": [
    "# Load the pretrained YOLOv5 model\n",
    "model = torch.hub.load('ultralytics/yolov5', 'yolov5s',pretrained=True)"
   ]
  },
  {
   "cell_type": "code",
   "execution_count": 7,
   "id": "875d192f-dd17-408c-9b1c-c65a9d563561",
   "metadata": {},
   "outputs": [],
   "source": [
    "from torchvision.datasets import VOCDetection"
   ]
  },
  {
   "cell_type": "code",
   "execution_count": 8,
   "id": "5442b29c-2301-4552-934f-37f916686eb9",
   "metadata": {},
   "outputs": [
    {
     "name": "stderr",
     "output_type": "stream",
     "text": [
      "100%|██████████| 2.00G/2.00G [01:49<00:00, 18.3MB/s]\n"
     ]
    }
   ],
   "source": [
    "# Load an example image from the PASCAL VOC dataset\n",
    "dataset = VOCDetection(root='./voc_data', year='2012',image_set='val', download=True )\n"
   ]
  },
  {
   "cell_type": "code",
   "execution_count": 9,
   "id": "b1d5680b-849e-4027-adc3-26b707c0a12f",
   "metadata": {},
   "outputs": [],
   "source": [
    "image, _ = dataset[3] # Sample image"
   ]
  },
  {
   "cell_type": "code",
   "execution_count": null,
   "id": "cbe82aec-db09-467f-8322-dfcb572adef2",
   "metadata": {},
   "outputs": [],
   "source": [
    "# Perform inference\n",
    "results = model(image)"
   ]
  },
  {
   "cell_type": "code",
   "execution_count": null,
   "id": "78388d81-c6ce-4805-a05a-1bf557a4c05e",
   "metadata": {},
   "outputs": [],
   "source": [
    "# Results show\n",
    "results.show()"
   ]
  },
  {
   "cell_type": "code",
   "execution_count": null,
   "id": "1ba49985-f2c8-40a9-95f7-ffd013b74bab",
   "metadata": {},
   "outputs": [],
   "source": []
  }
 ],
 "metadata": {
  "kernelspec": {
   "display_name": "Python 3 (ipykernel)",
   "language": "python",
   "name": "python3"
  },
  "language_info": {
   "codemirror_mode": {
    "name": "ipython",
    "version": 3
   },
   "file_extension": ".py",
   "mimetype": "text/x-python",
   "name": "python",
   "nbconvert_exporter": "python",
   "pygments_lexer": "ipython3",
   "version": "3.10.12"
  }
 },
 "nbformat": 4,
 "nbformat_minor": 5
}
